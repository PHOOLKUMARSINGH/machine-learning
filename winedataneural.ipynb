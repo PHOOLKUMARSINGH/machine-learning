{
 "cells": [
  {
   "cell_type": "code",
   "execution_count": 1,
   "metadata": {
    "collapsed": true
   },
   "outputs": [],
   "source": [
    "import numpy as np\n",
    "import pandas as pd"
   ]
  },
  {
   "cell_type": "code",
   "execution_count": 2,
   "metadata": {
    "collapsed": true
   },
   "outputs": [],
   "source": [
    "mywinedata=pd.read_excel(r\"E:\\data\\winedata.xlsx\",names=[\"Cultivator\",\"Alcohal\",\"Malic_acid\",\"Ash\",\"Alcalinity_of_ash\",\"Magnesium\",\"Total_phenols\",\"Flavanoids\",\"Nonflavanoid_phenols\",\"Proanthocyanins\",\"Color_intensity\",\"Hue\",\"OD280/OD315_of_diluted_wines\",\"Proline\"] )"
   ]
  },
  {
   "cell_type": "code",
   "execution_count": 4,
   "metadata": {
    "collapsed": false
   },
   "outputs": [
    {
     "data": {
      "text/html": [
       "<div>\n",
       "<table border=\"1\" class=\"dataframe\">\n",
       "  <thead>\n",
       "    <tr style=\"text-align: right;\">\n",
       "      <th></th>\n",
       "      <th>Cultivator</th>\n",
       "      <th>Alcohal</th>\n",
       "      <th>Malic_acid</th>\n",
       "      <th>Ash</th>\n",
       "      <th>Alcalinity_of_ash</th>\n",
       "      <th>Magnesium</th>\n",
       "      <th>Total_phenols</th>\n",
       "      <th>Flavanoids</th>\n",
       "      <th>Nonflavanoid_phenols</th>\n",
       "      <th>Proanthocyanins</th>\n",
       "      <th>Color_intensity</th>\n",
       "      <th>Hue</th>\n",
       "      <th>OD280/OD315_of_diluted_wines</th>\n",
       "      <th>Proline</th>\n",
       "    </tr>\n",
       "  </thead>\n",
       "  <tbody>\n",
       "    <tr>\n",
       "      <th>0</th>\n",
       "      <td>1</td>\n",
       "      <td>13.20</td>\n",
       "      <td>1.78</td>\n",
       "      <td>2.14</td>\n",
       "      <td>11.2</td>\n",
       "      <td>100</td>\n",
       "      <td>2.65</td>\n",
       "      <td>2.76</td>\n",
       "      <td>0.26</td>\n",
       "      <td>1.28</td>\n",
       "      <td>4.38</td>\n",
       "      <td>1.05</td>\n",
       "      <td>3.40</td>\n",
       "      <td>1050</td>\n",
       "    </tr>\n",
       "    <tr>\n",
       "      <th>1</th>\n",
       "      <td>1</td>\n",
       "      <td>13.16</td>\n",
       "      <td>2.36</td>\n",
       "      <td>2.67</td>\n",
       "      <td>18.6</td>\n",
       "      <td>101</td>\n",
       "      <td>2.80</td>\n",
       "      <td>3.24</td>\n",
       "      <td>0.30</td>\n",
       "      <td>2.81</td>\n",
       "      <td>5.68</td>\n",
       "      <td>1.03</td>\n",
       "      <td>3.17</td>\n",
       "      <td>1185</td>\n",
       "    </tr>\n",
       "    <tr>\n",
       "      <th>2</th>\n",
       "      <td>1</td>\n",
       "      <td>14.37</td>\n",
       "      <td>1.95</td>\n",
       "      <td>2.50</td>\n",
       "      <td>16.8</td>\n",
       "      <td>113</td>\n",
       "      <td>3.85</td>\n",
       "      <td>3.49</td>\n",
       "      <td>0.24</td>\n",
       "      <td>2.18</td>\n",
       "      <td>7.80</td>\n",
       "      <td>0.86</td>\n",
       "      <td>3.45</td>\n",
       "      <td>1480</td>\n",
       "    </tr>\n",
       "    <tr>\n",
       "      <th>3</th>\n",
       "      <td>1</td>\n",
       "      <td>13.24</td>\n",
       "      <td>2.59</td>\n",
       "      <td>2.87</td>\n",
       "      <td>21.0</td>\n",
       "      <td>118</td>\n",
       "      <td>2.80</td>\n",
       "      <td>2.69</td>\n",
       "      <td>0.39</td>\n",
       "      <td>1.82</td>\n",
       "      <td>4.32</td>\n",
       "      <td>1.04</td>\n",
       "      <td>2.93</td>\n",
       "      <td>735</td>\n",
       "    </tr>\n",
       "    <tr>\n",
       "      <th>4</th>\n",
       "      <td>1</td>\n",
       "      <td>14.20</td>\n",
       "      <td>1.76</td>\n",
       "      <td>2.45</td>\n",
       "      <td>15.2</td>\n",
       "      <td>112</td>\n",
       "      <td>3.27</td>\n",
       "      <td>3.39</td>\n",
       "      <td>0.34</td>\n",
       "      <td>1.97</td>\n",
       "      <td>6.75</td>\n",
       "      <td>1.05</td>\n",
       "      <td>2.85</td>\n",
       "      <td>1450</td>\n",
       "    </tr>\n",
       "  </tbody>\n",
       "</table>\n",
       "</div>"
      ],
      "text/plain": [
       "   Cultivator  Alcohal  Malic_acid   Ash  Alcalinity_of_ash  Magnesium  \\\n",
       "0           1    13.20        1.78  2.14               11.2        100   \n",
       "1           1    13.16        2.36  2.67               18.6        101   \n",
       "2           1    14.37        1.95  2.50               16.8        113   \n",
       "3           1    13.24        2.59  2.87               21.0        118   \n",
       "4           1    14.20        1.76  2.45               15.2        112   \n",
       "\n",
       "   Total_phenols  Flavanoids  Nonflavanoid_phenols  Proanthocyanins  \\\n",
       "0           2.65        2.76                  0.26             1.28   \n",
       "1           2.80        3.24                  0.30             2.81   \n",
       "2           3.85        3.49                  0.24             2.18   \n",
       "3           2.80        2.69                  0.39             1.82   \n",
       "4           3.27        3.39                  0.34             1.97   \n",
       "\n",
       "   Color_intensity   Hue  OD280/OD315_of_diluted_wines  Proline  \n",
       "0             4.38  1.05                          3.40     1050  \n",
       "1             5.68  1.03                          3.17     1185  \n",
       "2             7.80  0.86                          3.45     1480  \n",
       "3             4.32  1.04                          2.93      735  \n",
       "4             6.75  1.05                          2.85     1450  "
      ]
     },
     "execution_count": 4,
     "metadata": {},
     "output_type": "execute_result"
    }
   ],
   "source": [
    "mywinedata.head(5)"
   ]
  },
  {
   "cell_type": "code",
   "execution_count": 5,
   "metadata": {
    "collapsed": true
   },
   "outputs": [],
   "source": [
    "X=mywinedata.drop(\"Cultivator\",axis=1)"
   ]
  },
  {
   "cell_type": "code",
   "execution_count": 6,
   "metadata": {
    "collapsed": true
   },
   "outputs": [],
   "source": [
    "Y=mywinedata[\"Cultivator\"]"
   ]
  },
  {
   "cell_type": "code",
   "execution_count": 7,
   "metadata": {
    "collapsed": true
   },
   "outputs": [],
   "source": [
    "from sklearn.model_selection import train_test_split"
   ]
  },
  {
   "cell_type": "code",
   "execution_count": 8,
   "metadata": {
    "collapsed": true
   },
   "outputs": [],
   "source": [
    "x_train,x_test,y_train,y_test=train_test_split(X,Y,test_size=.30)"
   ]
  },
  {
   "cell_type": "code",
   "execution_count": 9,
   "metadata": {
    "collapsed": true
   },
   "outputs": [],
   "source": [
    "#preprocessing\n",
    "from sklearn.preprocessing import StandardScaler"
   ]
  },
  {
   "cell_type": "code",
   "execution_count": 10,
   "metadata": {
    "collapsed": true
   },
   "outputs": [],
   "source": [
    "myscale=StandardScaler()"
   ]
  },
  {
   "cell_type": "code",
   "execution_count": 11,
   "metadata": {
    "collapsed": true
   },
   "outputs": [],
   "source": [
    "X_xtrain=x_train\n",
    "X_xtest=x_test"
   ]
  },
  {
   "cell_type": "code",
   "execution_count": 12,
   "metadata": {
    "collapsed": false
   },
   "outputs": [
    {
     "data": {
      "text/plain": [
       "StandardScaler(copy=True, with_mean=True, with_std=True)"
      ]
     },
     "execution_count": 12,
     "metadata": {},
     "output_type": "execute_result"
    }
   ],
   "source": [
    "myscale.fit(X_xtrain)\n",
    "myscale.fit(X_xtest)"
   ]
  },
  {
   "cell_type": "code",
   "execution_count": 14,
   "metadata": {
    "collapsed": false
   },
   "outputs": [
    {
     "data": {
      "text/html": [
       "<div>\n",
       "<table border=\"1\" class=\"dataframe\">\n",
       "  <thead>\n",
       "    <tr style=\"text-align: right;\">\n",
       "      <th></th>\n",
       "      <th>Alcohal</th>\n",
       "      <th>Malic_acid</th>\n",
       "      <th>Ash</th>\n",
       "      <th>Alcalinity_of_ash</th>\n",
       "      <th>Magnesium</th>\n",
       "      <th>Total_phenols</th>\n",
       "      <th>Flavanoids</th>\n",
       "      <th>Nonflavanoid_phenols</th>\n",
       "      <th>Proanthocyanins</th>\n",
       "      <th>Color_intensity</th>\n",
       "      <th>Hue</th>\n",
       "      <th>OD280/OD315_of_diluted_wines</th>\n",
       "      <th>Proline</th>\n",
       "    </tr>\n",
       "  </thead>\n",
       "  <tbody>\n",
       "    <tr>\n",
       "      <th>169</th>\n",
       "      <td>12.20</td>\n",
       "      <td>3.03</td>\n",
       "      <td>2.32</td>\n",
       "      <td>19.0</td>\n",
       "      <td>96</td>\n",
       "      <td>1.25</td>\n",
       "      <td>0.49</td>\n",
       "      <td>0.40</td>\n",
       "      <td>0.73</td>\n",
       "      <td>5.50</td>\n",
       "      <td>0.66</td>\n",
       "      <td>1.83</td>\n",
       "      <td>510</td>\n",
       "    </tr>\n",
       "    <tr>\n",
       "      <th>54</th>\n",
       "      <td>13.56</td>\n",
       "      <td>1.73</td>\n",
       "      <td>2.46</td>\n",
       "      <td>20.5</td>\n",
       "      <td>116</td>\n",
       "      <td>2.96</td>\n",
       "      <td>2.78</td>\n",
       "      <td>0.20</td>\n",
       "      <td>2.45</td>\n",
       "      <td>6.25</td>\n",
       "      <td>0.98</td>\n",
       "      <td>3.03</td>\n",
       "      <td>1120</td>\n",
       "    </tr>\n",
       "    <tr>\n",
       "      <th>82</th>\n",
       "      <td>13.05</td>\n",
       "      <td>3.86</td>\n",
       "      <td>2.32</td>\n",
       "      <td>22.5</td>\n",
       "      <td>85</td>\n",
       "      <td>1.65</td>\n",
       "      <td>1.59</td>\n",
       "      <td>0.61</td>\n",
       "      <td>1.62</td>\n",
       "      <td>4.80</td>\n",
       "      <td>0.84</td>\n",
       "      <td>2.01</td>\n",
       "      <td>515</td>\n",
       "    </tr>\n",
       "    <tr>\n",
       "      <th>23</th>\n",
       "      <td>13.50</td>\n",
       "      <td>1.81</td>\n",
       "      <td>2.61</td>\n",
       "      <td>20.0</td>\n",
       "      <td>96</td>\n",
       "      <td>2.53</td>\n",
       "      <td>2.61</td>\n",
       "      <td>0.28</td>\n",
       "      <td>1.66</td>\n",
       "      <td>3.52</td>\n",
       "      <td>1.12</td>\n",
       "      <td>3.82</td>\n",
       "      <td>845</td>\n",
       "    </tr>\n",
       "    <tr>\n",
       "      <th>172</th>\n",
       "      <td>13.71</td>\n",
       "      <td>5.65</td>\n",
       "      <td>2.45</td>\n",
       "      <td>20.5</td>\n",
       "      <td>95</td>\n",
       "      <td>1.68</td>\n",
       "      <td>0.61</td>\n",
       "      <td>0.52</td>\n",
       "      <td>1.06</td>\n",
       "      <td>7.70</td>\n",
       "      <td>0.64</td>\n",
       "      <td>1.74</td>\n",
       "      <td>740</td>\n",
       "    </tr>\n",
       "  </tbody>\n",
       "</table>\n",
       "</div>"
      ],
      "text/plain": [
       "     Alcohal  Malic_acid   Ash  Alcalinity_of_ash  Magnesium  Total_phenols  \\\n",
       "169    12.20        3.03  2.32               19.0         96           1.25   \n",
       "54     13.56        1.73  2.46               20.5        116           2.96   \n",
       "82     13.05        3.86  2.32               22.5         85           1.65   \n",
       "23     13.50        1.81  2.61               20.0         96           2.53   \n",
       "172    13.71        5.65  2.45               20.5         95           1.68   \n",
       "\n",
       "     Flavanoids  Nonflavanoid_phenols  Proanthocyanins  Color_intensity   Hue  \\\n",
       "169        0.49                  0.40             0.73             5.50  0.66   \n",
       "54         2.78                  0.20             2.45             6.25  0.98   \n",
       "82         1.59                  0.61             1.62             4.80  0.84   \n",
       "23         2.61                  0.28             1.66             3.52  1.12   \n",
       "172        0.61                  0.52             1.06             7.70  0.64   \n",
       "\n",
       "     OD280/OD315_of_diluted_wines  Proline  \n",
       "169                          1.83      510  \n",
       "54                           3.03     1120  \n",
       "82                           2.01      515  \n",
       "23                           3.82      845  \n",
       "172                          1.74      740  "
      ]
     },
     "execution_count": 14,
     "metadata": {},
     "output_type": "execute_result"
    }
   ],
   "source": [
    "X_xtrain.head(5)"
   ]
  },
  {
   "cell_type": "code",
   "execution_count": 15,
   "metadata": {
    "collapsed": false
   },
   "outputs": [
    {
     "data": {
      "text/plain": [
       "Alcohal                           0.773889\n",
       "Malic_acid                        1.105986\n",
       "Ash                               0.261257\n",
       "Alcalinity_of_ash                 3.147144\n",
       "Magnesium                        14.303143\n",
       "Total_phenols                     0.617963\n",
       "Flavanoids                        1.003962\n",
       "Nonflavanoid_phenols              0.126245\n",
       "Proanthocyanins                   0.575934\n",
       "Color_intensity                   2.212338\n",
       "Hue                               0.235259\n",
       "OD280/OD315_of_diluted_wines      0.689511\n",
       "Proline                         309.659208\n",
       "dtype: float64"
      ]
     },
     "execution_count": 15,
     "metadata": {},
     "output_type": "execute_result"
    }
   ],
   "source": [
    "X_xtrain.std()"
   ]
  },
  {
   "cell_type": "code",
   "execution_count": 16,
   "metadata": {
    "collapsed": false
   },
   "outputs": [
    {
     "data": {
      "text/plain": [
       "Alcohal                          13.0\n",
       "Malic_acid                        2.0\n",
       "Ash                               2.0\n",
       "Alcalinity_of_ash                19.0\n",
       "Magnesium                       100.0\n",
       "Total_phenols                     2.0\n",
       "Flavanoids                        2.0\n",
       "Nonflavanoid_phenols              0.0\n",
       "Proanthocyanins                   2.0\n",
       "Color_intensity                   5.0\n",
       "Hue                               1.0\n",
       "OD280/OD315_of_diluted_wines      3.0\n",
       "Proline                         764.0\n",
       "dtype: float64"
      ]
     },
     "execution_count": 16,
     "metadata": {},
     "output_type": "execute_result"
    }
   ],
   "source": [
    "round(X_xtrain.mean())"
   ]
  },
  {
   "cell_type": "code",
   "execution_count": 17,
   "metadata": {
    "collapsed": false
   },
   "outputs": [
    {
     "data": {
      "text/plain": [
       "Alcohal                           0.889502\n",
       "Malic_acid                        1.158512\n",
       "Ash                               0.305742\n",
       "Alcalinity_of_ash                 3.673807\n",
       "Magnesium                        14.006288\n",
       "Total_phenols                     0.650666\n",
       "Flavanoids                        0.995738\n",
       "Nonflavanoid_phenols              0.121971\n",
       "Proanthocyanins                   0.566773\n",
       "Color_intensity                   2.581471\n",
       "Hue                               0.216156\n",
       "OD280/OD315_of_diluted_wines      0.736466\n",
       "Proline                         325.375528\n",
       "dtype: float64"
      ]
     },
     "execution_count": 17,
     "metadata": {},
     "output_type": "execute_result"
    }
   ],
   "source": [
    "X_xtest.std()"
   ]
  },
  {
   "cell_type": "code",
   "execution_count": 18,
   "metadata": {
    "collapsed": false
   },
   "outputs": [
    {
     "data": {
      "text/plain": [
       "Alcohal                          13.0\n",
       "Malic_acid                        2.0\n",
       "Ash                               2.0\n",
       "Alcalinity_of_ash                20.0\n",
       "Magnesium                       100.0\n",
       "Total_phenols                     2.0\n",
       "Flavanoids                        2.0\n",
       "Nonflavanoid_phenols              0.0\n",
       "Proanthocyanins                   2.0\n",
       "Color_intensity                   5.0\n",
       "Hue                               1.0\n",
       "OD280/OD315_of_diluted_wines      3.0\n",
       "Proline                         702.0\n",
       "dtype: float64"
      ]
     },
     "execution_count": 18,
     "metadata": {},
     "output_type": "execute_result"
    }
   ],
   "source": [
    "round(X_xtest.mean())"
   ]
  },
  {
   "cell_type": "code",
   "execution_count": 19,
   "metadata": {
    "collapsed": true
   },
   "outputs": [],
   "source": [
    "#Training Model\n",
    "from sklearn.neural_network import MLPClassifier"
   ]
  },
  {
   "cell_type": "code",
   "execution_count": 20,
   "metadata": {
    "collapsed": true
   },
   "outputs": [],
   "source": [
    "mymlp=MLPClassifier(hidden_layer_sizes=(13,13,13),max_iter=500)"
   ]
  },
  {
   "cell_type": "code",
   "execution_count": 21,
   "metadata": {
    "collapsed": true
   },
   "outputs": [],
   "source": [
    "mymodel=mymlp.fit(X_xtrain,y_train)"
   ]
  },
  {
   "cell_type": "code",
   "execution_count": 22,
   "metadata": {
    "collapsed": true
   },
   "outputs": [],
   "source": [
    "#prediction\n",
    "Yp=mymodel.predict(X_xtest)"
   ]
  },
  {
   "cell_type": "code",
   "execution_count": 23,
   "metadata": {
    "collapsed": false
   },
   "outputs": [
    {
     "data": {
      "text/html": [
       "<div>\n",
       "<table border=\"1\" class=\"dataframe\">\n",
       "  <thead>\n",
       "    <tr style=\"text-align: right;\">\n",
       "      <th></th>\n",
       "      <th>Actual</th>\n",
       "      <th>predict</th>\n",
       "    </tr>\n",
       "  </thead>\n",
       "  <tbody>\n",
       "    <tr>\n",
       "      <th>25</th>\n",
       "      <td>1</td>\n",
       "      <td>1</td>\n",
       "    </tr>\n",
       "    <tr>\n",
       "      <th>24</th>\n",
       "      <td>1</td>\n",
       "      <td>3</td>\n",
       "    </tr>\n",
       "    <tr>\n",
       "      <th>131</th>\n",
       "      <td>3</td>\n",
       "      <td>3</td>\n",
       "    </tr>\n",
       "    <tr>\n",
       "      <th>161</th>\n",
       "      <td>3</td>\n",
       "      <td>3</td>\n",
       "    </tr>\n",
       "    <tr>\n",
       "      <th>72</th>\n",
       "      <td>2</td>\n",
       "      <td>3</td>\n",
       "    </tr>\n",
       "    <tr>\n",
       "      <th>5</th>\n",
       "      <td>1</td>\n",
       "      <td>1</td>\n",
       "    </tr>\n",
       "    <tr>\n",
       "      <th>85</th>\n",
       "      <td>2</td>\n",
       "      <td>3</td>\n",
       "    </tr>\n",
       "    <tr>\n",
       "      <th>90</th>\n",
       "      <td>2</td>\n",
       "      <td>3</td>\n",
       "    </tr>\n",
       "    <tr>\n",
       "      <th>105</th>\n",
       "      <td>2</td>\n",
       "      <td>3</td>\n",
       "    </tr>\n",
       "    <tr>\n",
       "      <th>137</th>\n",
       "      <td>3</td>\n",
       "      <td>3</td>\n",
       "    </tr>\n",
       "    <tr>\n",
       "      <th>158</th>\n",
       "      <td>3</td>\n",
       "      <td>3</td>\n",
       "    </tr>\n",
       "    <tr>\n",
       "      <th>76</th>\n",
       "      <td>2</td>\n",
       "      <td>3</td>\n",
       "    </tr>\n",
       "    <tr>\n",
       "      <th>0</th>\n",
       "      <td>1</td>\n",
       "      <td>1</td>\n",
       "    </tr>\n",
       "    <tr>\n",
       "      <th>6</th>\n",
       "      <td>1</td>\n",
       "      <td>1</td>\n",
       "    </tr>\n",
       "    <tr>\n",
       "      <th>130</th>\n",
       "      <td>3</td>\n",
       "      <td>3</td>\n",
       "    </tr>\n",
       "    <tr>\n",
       "      <th>115</th>\n",
       "      <td>2</td>\n",
       "      <td>3</td>\n",
       "    </tr>\n",
       "    <tr>\n",
       "      <th>120</th>\n",
       "      <td>2</td>\n",
       "      <td>3</td>\n",
       "    </tr>\n",
       "    <tr>\n",
       "      <th>171</th>\n",
       "      <td>3</td>\n",
       "      <td>3</td>\n",
       "    </tr>\n",
       "    <tr>\n",
       "      <th>164</th>\n",
       "      <td>3</td>\n",
       "      <td>3</td>\n",
       "    </tr>\n",
       "    <tr>\n",
       "      <th>71</th>\n",
       "      <td>2</td>\n",
       "      <td>3</td>\n",
       "    </tr>\n",
       "    <tr>\n",
       "      <th>143</th>\n",
       "      <td>3</td>\n",
       "      <td>3</td>\n",
       "    </tr>\n",
       "    <tr>\n",
       "      <th>39</th>\n",
       "      <td>1</td>\n",
       "      <td>3</td>\n",
       "    </tr>\n",
       "    <tr>\n",
       "      <th>79</th>\n",
       "      <td>2</td>\n",
       "      <td>3</td>\n",
       "    </tr>\n",
       "    <tr>\n",
       "      <th>96</th>\n",
       "      <td>2</td>\n",
       "      <td>3</td>\n",
       "    </tr>\n",
       "    <tr>\n",
       "      <th>27</th>\n",
       "      <td>1</td>\n",
       "      <td>3</td>\n",
       "    </tr>\n",
       "    <tr>\n",
       "      <th>122</th>\n",
       "      <td>2</td>\n",
       "      <td>3</td>\n",
       "    </tr>\n",
       "    <tr>\n",
       "      <th>37</th>\n",
       "      <td>1</td>\n",
       "      <td>3</td>\n",
       "    </tr>\n",
       "    <tr>\n",
       "      <th>104</th>\n",
       "      <td>2</td>\n",
       "      <td>3</td>\n",
       "    </tr>\n",
       "    <tr>\n",
       "      <th>109</th>\n",
       "      <td>2</td>\n",
       "      <td>3</td>\n",
       "    </tr>\n",
       "    <tr>\n",
       "      <th>2</th>\n",
       "      <td>1</td>\n",
       "      <td>1</td>\n",
       "    </tr>\n",
       "    <tr>\n",
       "      <th>111</th>\n",
       "      <td>2</td>\n",
       "      <td>3</td>\n",
       "    </tr>\n",
       "    <tr>\n",
       "      <th>66</th>\n",
       "      <td>2</td>\n",
       "      <td>3</td>\n",
       "    </tr>\n",
       "    <tr>\n",
       "      <th>121</th>\n",
       "      <td>2</td>\n",
       "      <td>3</td>\n",
       "    </tr>\n",
       "    <tr>\n",
       "      <th>93</th>\n",
       "      <td>2</td>\n",
       "      <td>3</td>\n",
       "    </tr>\n",
       "    <tr>\n",
       "      <th>166</th>\n",
       "      <td>3</td>\n",
       "      <td>3</td>\n",
       "    </tr>\n",
       "    <tr>\n",
       "      <th>107</th>\n",
       "      <td>2</td>\n",
       "      <td>3</td>\n",
       "    </tr>\n",
       "    <tr>\n",
       "      <th>176</th>\n",
       "      <td>3</td>\n",
       "      <td>3</td>\n",
       "    </tr>\n",
       "    <tr>\n",
       "      <th>174</th>\n",
       "      <td>3</td>\n",
       "      <td>3</td>\n",
       "    </tr>\n",
       "    <tr>\n",
       "      <th>86</th>\n",
       "      <td>2</td>\n",
       "      <td>3</td>\n",
       "    </tr>\n",
       "    <tr>\n",
       "      <th>53</th>\n",
       "      <td>1</td>\n",
       "      <td>3</td>\n",
       "    </tr>\n",
       "    <tr>\n",
       "      <th>110</th>\n",
       "      <td>2</td>\n",
       "      <td>3</td>\n",
       "    </tr>\n",
       "    <tr>\n",
       "      <th>15</th>\n",
       "      <td>1</td>\n",
       "      <td>1</td>\n",
       "    </tr>\n",
       "    <tr>\n",
       "      <th>136</th>\n",
       "      <td>3</td>\n",
       "      <td>3</td>\n",
       "    </tr>\n",
       "    <tr>\n",
       "      <th>157</th>\n",
       "      <td>3</td>\n",
       "      <td>3</td>\n",
       "    </tr>\n",
       "    <tr>\n",
       "      <th>4</th>\n",
       "      <td>1</td>\n",
       "      <td>1</td>\n",
       "    </tr>\n",
       "    <tr>\n",
       "      <th>102</th>\n",
       "      <td>2</td>\n",
       "      <td>3</td>\n",
       "    </tr>\n",
       "    <tr>\n",
       "      <th>21</th>\n",
       "      <td>1</td>\n",
       "      <td>1</td>\n",
       "    </tr>\n",
       "    <tr>\n",
       "      <th>127</th>\n",
       "      <td>2</td>\n",
       "      <td>3</td>\n",
       "    </tr>\n",
       "    <tr>\n",
       "      <th>1</th>\n",
       "      <td>1</td>\n",
       "      <td>1</td>\n",
       "    </tr>\n",
       "    <tr>\n",
       "      <th>129</th>\n",
       "      <td>3</td>\n",
       "      <td>3</td>\n",
       "    </tr>\n",
       "    <tr>\n",
       "      <th>108</th>\n",
       "      <td>2</td>\n",
       "      <td>3</td>\n",
       "    </tr>\n",
       "    <tr>\n",
       "      <th>145</th>\n",
       "      <td>3</td>\n",
       "      <td>3</td>\n",
       "    </tr>\n",
       "    <tr>\n",
       "      <th>19</th>\n",
       "      <td>1</td>\n",
       "      <td>3</td>\n",
       "    </tr>\n",
       "    <tr>\n",
       "      <th>10</th>\n",
       "      <td>1</td>\n",
       "      <td>1</td>\n",
       "    </tr>\n",
       "  </tbody>\n",
       "</table>\n",
       "</div>"
      ],
      "text/plain": [
       "     Actual  predict\n",
       "25        1        1\n",
       "24        1        3\n",
       "131       3        3\n",
       "161       3        3\n",
       "72        2        3\n",
       "5         1        1\n",
       "85        2        3\n",
       "90        2        3\n",
       "105       2        3\n",
       "137       3        3\n",
       "158       3        3\n",
       "76        2        3\n",
       "0         1        1\n",
       "6         1        1\n",
       "130       3        3\n",
       "115       2        3\n",
       "120       2        3\n",
       "171       3        3\n",
       "164       3        3\n",
       "71        2        3\n",
       "143       3        3\n",
       "39        1        3\n",
       "79        2        3\n",
       "96        2        3\n",
       "27        1        3\n",
       "122       2        3\n",
       "37        1        3\n",
       "104       2        3\n",
       "109       2        3\n",
       "2         1        1\n",
       "111       2        3\n",
       "66        2        3\n",
       "121       2        3\n",
       "93        2        3\n",
       "166       3        3\n",
       "107       2        3\n",
       "176       3        3\n",
       "174       3        3\n",
       "86        2        3\n",
       "53        1        3\n",
       "110       2        3\n",
       "15        1        1\n",
       "136       3        3\n",
       "157       3        3\n",
       "4         1        1\n",
       "102       2        3\n",
       "21        1        1\n",
       "127       2        3\n",
       "1         1        1\n",
       "129       3        3\n",
       "108       2        3\n",
       "145       3        3\n",
       "19        1        3\n",
       "10        1        1"
      ]
     },
     "execution_count": 23,
     "metadata": {},
     "output_type": "execute_result"
    }
   ],
   "source": [
    "pd.DataFrame({\"Actual\":y_test,\"predict\":Yp})"
   ]
  },
  {
   "cell_type": "code",
   "execution_count": 24,
   "metadata": {
    "collapsed": true
   },
   "outputs": [],
   "source": [
    "from sklearn import metrics "
   ]
  },
  {
   "cell_type": "code",
   "execution_count": 25,
   "metadata": {
    "collapsed": false
   },
   "outputs": [
    {
     "data": {
      "text/plain": [
       "0.46296296296296297"
      ]
     },
     "execution_count": 25,
     "metadata": {},
     "output_type": "execute_result"
    }
   ],
   "source": [
    "metrics.accuracy_score(y_test,Yp)"
   ]
  },
  {
   "cell_type": "code",
   "execution_count": 26,
   "metadata": {
    "collapsed": true
   },
   "outputs": [],
   "source": [
    "from sklearn.metrics import classification_report,confusion_matrix"
   ]
  },
  {
   "cell_type": "code",
   "execution_count": 27,
   "metadata": {
    "collapsed": false
   },
   "outputs": [
    {
     "name": "stderr",
     "output_type": "stream",
     "text": [
      "E:\\aap development\\lib\\site-packages\\sklearn\\metrics\\classification.py:1113: UndefinedMetricWarning: Precision and F-score are ill-defined and being set to 0.0 in labels with no predicted samples.\n",
      "  'precision', 'predicted', average, warn_for)\n"
     ]
    },
    {
     "data": {
      "text/plain": [
       "'             precision    recall  f1-score   support\\n\\n          1       1.00      0.62      0.77        16\\n          2       0.00      0.00      0.00        23\\n          3       0.34      1.00      0.51        15\\n\\navg / total       0.39      0.46      0.37        54\\n'"
      ]
     },
     "execution_count": 27,
     "metadata": {},
     "output_type": "execute_result"
    }
   ],
   "source": [
    "classification_report(y_test,Yp)"
   ]
  },
  {
   "cell_type": "code",
   "execution_count": 28,
   "metadata": {
    "collapsed": false
   },
   "outputs": [
    {
     "data": {
      "text/plain": [
       "array([[10,  0,  6],\n",
       "       [ 0,  0, 23],\n",
       "       [ 0,  0, 15]])"
      ]
     },
     "execution_count": 28,
     "metadata": {},
     "output_type": "execute_result"
    }
   ],
   "source": [
    "confusion_matrix(y_test,Yp)"
   ]
  },
  {
   "cell_type": "code",
   "execution_count": 29,
   "metadata": {
    "collapsed": false
   },
   "outputs": [
    {
     "data": {
      "text/plain": [
       "[array([[-0.31771624,  0.26001378,  0.24741931,  0.40627818,  0.36730373,\n",
       "         -0.34366122,  0.42496358, -0.31054686, -0.3593964 , -0.34651907,\n",
       "         -0.26965828,  0.15977475,  0.02285399],\n",
       "        [ 0.20909706, -0.25565456, -0.18181207,  0.1858805 , -0.15735909,\n",
       "          0.43138675,  0.13952732, -0.28572628, -0.19505275, -0.07211321,\n",
       "         -0.04887049,  0.24861745, -0.44289748],\n",
       "        [ 0.27788134, -0.12089405,  0.37521819,  0.19212539, -0.45385738,\n",
       "          0.18367245,  0.42575852, -0.26838642,  0.39100378,  0.37212631,\n",
       "         -0.02204703,  0.26519472, -0.35616494],\n",
       "        [ 0.22189901,  0.25589298,  0.04174912,  0.03510374, -0.34852891,\n",
       "         -0.25315105,  0.47389486, -0.35855746, -0.20753883, -0.34497396,\n",
       "         -0.230277  ,  0.04864113, -0.33973349],\n",
       "        [-0.12628141, -0.45818184, -0.34750859,  0.32736347, -0.10756938,\n",
       "         -0.40844749, -0.17878666, -0.10581133, -0.18062862,  0.17827706,\n",
       "          0.35964481, -0.21138388,  0.0694514 ],\n",
       "        [-0.34329361, -0.14944554, -0.36986167,  0.45180575, -0.4511989 ,\n",
       "          0.47723842, -0.04718842,  0.34409293, -0.26221721, -0.09987861,\n",
       "         -0.37410036, -0.39910407, -0.36945895],\n",
       "        [-0.25893973, -0.09733339, -0.13782468,  0.18324944,  0.22377628,\n",
       "          0.25635652, -0.30150137, -0.14709737, -0.19876972,  0.44896233,\n",
       "          0.09707847,  0.28584462,  0.31872841],\n",
       "        [-0.43757472, -0.22057746, -0.17645639,  0.15631021,  0.36491886,\n",
       "          0.3224163 ,  0.1971432 , -0.45488154, -0.08170814, -0.25693356,\n",
       "         -0.12213682,  0.03669438,  0.1100054 ],\n",
       "        [ 0.02674341, -0.02363848, -0.04491302,  0.37953033, -0.32731458,\n",
       "         -0.04993841,  0.42080123, -0.10288503,  0.17446768,  0.42469409,\n",
       "         -0.33395435,  0.36473046,  0.29726158],\n",
       "        [ 0.13195355, -0.22891726, -0.28649937, -0.18766885, -0.41348968,\n",
       "         -0.31636008, -0.47010324, -0.09710155,  0.21749391, -0.345745  ,\n",
       "         -0.35544378, -0.21219936,  0.02393135],\n",
       "        [ 0.10543881,  0.11110734, -0.35798932,  0.47207981, -0.07099497,\n",
       "          0.06976025,  0.08339982,  0.1024735 ,  0.13834339, -0.10217153,\n",
       "         -0.2176475 ,  0.39285317,  0.44901815],\n",
       "        [-0.07880528, -0.10828952, -0.1987272 , -0.31596012,  0.37218788,\n",
       "         -0.41866039, -0.09996692,  0.07582811, -0.31980315,  0.36678305,\n",
       "         -0.17427919, -0.0363628 , -0.09940621],\n",
       "        [ 0.2172416 , -0.28298469,  0.04750156,  0.29092028, -0.14609432,\n",
       "          0.17301914,  0.14378629,  0.46581557,  0.15902443, -0.45211556,\n",
       "         -0.41707289, -0.10175168,  0.32640917]]),\n",
       " array([[ 0.27320014,  0.44007396, -0.15351703, -0.04736562,  0.10932607,\n",
       "          0.00320857,  0.00060814,  0.46428205,  0.08062693, -0.10666694,\n",
       "         -0.46140195, -0.20481167, -0.05353685],\n",
       "        [-0.38215028,  0.34298682,  0.16204873,  0.13648621,  0.41645247,\n",
       "         -0.02388343,  0.22054809, -0.40910527, -0.12494509, -0.08861863,\n",
       "          0.47189271,  0.12591196,  0.30517992],\n",
       "        [ 0.22032491,  0.34354798,  0.38032305, -0.23957581, -0.12429909,\n",
       "         -0.37705493, -0.1651171 , -0.45098227, -0.47429687,  0.10770176,\n",
       "         -0.15414375, -0.45241341,  0.2612662 ],\n",
       "        [ 0.43801794, -0.31068919,  0.23555547, -0.20465831,  0.1024553 ,\n",
       "          0.12459156, -0.07134999, -0.43379588, -0.18184854, -0.44983334,\n",
       "          0.28686281, -0.40941362, -0.18023931],\n",
       "        [ 0.41608777,  0.35191662,  0.14339004,  0.27330551,  0.11491034,\n",
       "          0.09475889,  0.42589581,  0.15196207,  0.04042829,  0.07718068,\n",
       "         -0.07165965, -0.34451442,  0.2991833 ],\n",
       "        [-0.08909222,  0.29187386,  0.46738182,  0.28317819,  0.38044153,\n",
       "          0.23595827,  0.43631476, -0.31468238, -0.12090319,  0.29554071,\n",
       "         -0.0522093 , -0.46019779, -0.32331081],\n",
       "        [-0.16585676, -0.27890602,  0.4681258 ,  0.35225099,  0.01082419,\n",
       "         -0.25318331,  0.08548279,  0.18152121, -0.38965923, -0.24647756,\n",
       "          0.43324851,  0.40541609,  0.23928917],\n",
       "        [ 0.40409474,  0.01683286, -0.33618337, -0.25103515,  0.37799369,\n",
       "          0.00124087,  0.2307692 , -0.10836589, -0.1840838 , -0.18644435,\n",
       "         -0.14773869, -0.01596421,  0.30061404],\n",
       "        [ 0.42346602,  0.11232853,  0.42248422,  0.40889115, -0.18410159,\n",
       "          0.00262587, -0.44292406,  0.00202297,  0.29047321, -0.23648426,\n",
       "          0.37367752, -0.12672858,  0.44123665],\n",
       "        [ 0.13351877, -0.31267589, -0.28934566,  0.40393805,  0.18171504,\n",
       "         -0.09266827,  0.08624064,  0.02788487, -0.01819964, -0.29377798,\n",
       "         -0.05532297, -0.25237959,  0.41683455],\n",
       "        [-0.06006051, -0.0768463 , -0.377516  ,  0.11057744, -0.35872243,\n",
       "          0.03605912, -0.02700751, -0.02353396,  0.22346408,  0.38626229,\n",
       "         -0.04776333, -0.2350927 , -0.0365546 ],\n",
       "        [ 0.17706507,  0.36172245,  0.0925074 ,  0.25545825, -0.25316887,\n",
       "          0.3699281 ,  0.12389373, -0.1912884 , -0.16911638,  0.45922294,\n",
       "          0.19921559,  0.14144513, -0.46499951],\n",
       "        [-0.22325481,  0.00070853,  0.46897926,  0.15003064, -0.44627497,\n",
       "         -0.06682888, -0.46473886, -0.39246733,  0.45827829,  0.24800019,\n",
       "          0.27354469, -0.37314453,  0.10802296]]),\n",
       " array([[ 0.20542133,  0.45779415, -0.05055866,  0.46431492,  0.46412724,\n",
       "         -0.35470182,  0.40882976, -0.25405325, -0.05026554, -0.40408446,\n",
       "         -0.32505527, -0.27262359, -0.28147286],\n",
       "        [-0.30086928,  0.02743654, -0.42673314,  0.46940755, -0.33266633,\n",
       "          0.33984443,  0.04902771,  0.44445749,  0.22895314, -0.45151868,\n",
       "         -0.38179791, -0.23878479,  0.24493084],\n",
       "        [ 0.31108337, -0.40006816, -0.46321301,  0.36624239, -0.07972574,\n",
       "         -0.12943763,  0.06507049,  0.42874689,  0.16396115,  0.39645261,\n",
       "         -0.31321499,  0.25712732, -0.44588535],\n",
       "        [ 0.04623079,  0.25734793,  0.21492245, -0.05827817,  0.34708538,\n",
       "         -0.12815244, -0.16694263,  0.32565873,  0.26644057, -0.36251088,\n",
       "          0.47126235, -0.42105601,  0.12523403],\n",
       "        [-0.05970947,  0.21136067,  0.21709322,  0.39544204, -0.1917549 ,\n",
       "         -0.36684837, -0.23223315, -0.40718496,  0.11217267,  0.39712341,\n",
       "          0.31526047, -0.16862412, -0.16247209],\n",
       "        [-0.0987771 , -0.15427531, -0.26800004,  0.15118665, -0.03273368,\n",
       "         -0.05819168,  0.0408144 , -0.33320352,  0.43467701, -0.38354375,\n",
       "         -0.06378038,  0.41751756, -0.38468133],\n",
       "        [-0.17887147, -0.03036156, -0.28835414, -0.06992185, -0.15176009,\n",
       "         -0.01801607,  0.16040527,  0.35034788, -0.26382507,  0.46747149,\n",
       "          0.38079154, -0.06824023,  0.33077182],\n",
       "        [-0.34153196,  0.38595659, -0.03008625, -0.27305247, -0.10700817,\n",
       "          0.46438577,  0.44748088, -0.16348929, -0.0135228 , -0.18895849,\n",
       "          0.45369509,  0.27171286, -0.23086737],\n",
       "        [ 0.31033685, -0.3533774 ,  0.40215268,  0.39614975,  0.20627664,\n",
       "          0.38091111, -0.20292748,  0.2346596 , -0.05889464,  0.28815263,\n",
       "          0.00627153,  0.44284359, -0.2565422 ],\n",
       "        [-0.20014179, -0.36177243,  0.08832271, -0.02999371, -0.15937401,\n",
       "          0.34267939, -0.40292662, -0.10061324,  0.30210563, -0.27439428,\n",
       "          0.44484637, -0.36589335,  0.11900449],\n",
       "        [-0.30908652,  0.08875242, -0.12422486, -0.41369057, -0.39435573,\n",
       "         -0.17331262,  0.01994908, -0.19832389, -0.26298564, -0.122032  ,\n",
       "         -0.22763667,  0.2887123 , -0.04359946],\n",
       "        [ 0.13032793,  0.28105321,  0.35023617, -0.28059788, -0.29116989,\n",
       "         -0.11779899, -0.09686046, -0.41922864, -0.45060268, -0.3753679 ,\n",
       "         -0.00694375, -0.21281118,  0.08126355],\n",
       "        [-0.41033102,  0.40989879,  0.1803962 ,  0.34097481, -0.16222647,\n",
       "          0.22395261,  0.36682023, -0.07462761,  0.26349622, -0.09648038,\n",
       "          0.38970359,  0.33663019,  0.03640165]]),\n",
       " array([[ 0.34438634, -0.23492303,  0.15729693],\n",
       "        [ 0.45349333,  0.11929289,  0.48664435],\n",
       "        [-0.01595353,  0.21032933, -0.10527671],\n",
       "        [ 0.4498862 ,  0.26564619,  0.07602105],\n",
       "        [ 0.40900281, -0.50830738, -0.01181367],\n",
       "        [ 0.57066204, -0.34862583, -0.44420558],\n",
       "        [-0.26099515,  0.06622382,  0.45734702],\n",
       "        [-0.16244471, -0.27407816, -0.28805046],\n",
       "        [-0.47757705, -0.18667133, -0.40282563],\n",
       "        [-0.25455608,  0.05087448,  0.25581644],\n",
       "        [-0.35827375, -0.14695829, -0.16448471],\n",
       "        [ 0.28566012,  0.11068595, -0.08526308],\n",
       "        [-0.19526605,  0.55853517,  0.20037485]])]"
      ]
     },
     "execution_count": 29,
     "metadata": {},
     "output_type": "execute_result"
    }
   ],
   "source": [
    "mymodel.coefs_"
   ]
  },
  {
   "cell_type": "code",
   "execution_count": 30,
   "metadata": {
    "collapsed": false
   },
   "outputs": [
    {
     "data": {
      "text/plain": [
       "4"
      ]
     },
     "execution_count": 30,
     "metadata": {},
     "output_type": "execute_result"
    }
   ],
   "source": [
    "len(mymodel.coefs_)"
   ]
  },
  {
   "cell_type": "code",
   "execution_count": 31,
   "metadata": {
    "collapsed": false
   },
   "outputs": [
    {
     "data": {
      "text/plain": [
       "13"
      ]
     },
     "execution_count": 31,
     "metadata": {},
     "output_type": "execute_result"
    }
   ],
   "source": [
    "len(mymodel.coefs_[0])"
   ]
  },
  {
   "cell_type": "code",
   "execution_count": null,
   "metadata": {
    "collapsed": true
   },
   "outputs": [],
   "source": []
  }
 ],
 "metadata": {
  "kernelspec": {
   "display_name": "Python 3",
   "language": "python",
   "name": "python3"
  },
  "language_info": {
   "codemirror_mode": {
    "name": "ipython",
    "version": 3
   },
   "file_extension": ".py",
   "mimetype": "text/x-python",
   "name": "python",
   "nbconvert_exporter": "python",
   "pygments_lexer": "ipython3",
   "version": "3.6.0"
  }
 },
 "nbformat": 4,
 "nbformat_minor": 2
}
